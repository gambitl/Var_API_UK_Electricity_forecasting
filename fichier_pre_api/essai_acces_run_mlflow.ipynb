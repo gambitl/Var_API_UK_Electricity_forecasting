{
 "cells": [
  {
   "cell_type": "code",
   "execution_count": 19,
   "metadata": {},
   "outputs": [
    {
     "name": "stdout",
     "output_type": "stream",
     "text": [
      "                             run_id experiment_id    status  \\\n",
      "0  6a9247c5e1f6446ba2f8b8b1e5cdf3cf             3  FINISHED   \n",
      "\n",
      "                                        artifact_uri  \\\n",
      "0  gs://mlflow-storage-artifacts-var-project/3/6a...   \n",
      "\n",
      "                        start_time                         end_time  \\\n",
      "0 2023-05-26 09:35:54.175000+00:00 2023-05-26 09:38:38.850000+00:00   \n",
      "\n",
      "   metrics.MAE  metrics.aic  metrics.df_model  metrics.bic  ...  params.ic  \\\n",
      "0  2837.300728   114.722499             577.0   117.668031  ...        aic   \n",
      "\n",
      "   params.method params.trend params.verbose params.maxlags  \\\n",
      "0            ols            c          False             48   \n",
      "\n",
      "                       tags.mlflow.log-model.history tags.mlflow.source.type  \\\n",
      "0  [{\"run_id\": \"6a9247c5e1f6446ba2f8b8b1e5cdf3cf\"...                   LOCAL   \n",
      "\n",
      "      tags.mlflow.source.name tags.mlflow.user tags.mlflow.runName  \n",
      "0  /opt/python3.8/bin/airflow          airflow    marvelous-ox-485  \n",
      "\n",
      "[1 rows x 22 columns]\n"
     ]
    }
   ],
   "source": [
    "\n",
    "import pandas as pd\n",
    "import numpy as np\n",
    "from sklearn.model_selection import TimeSeriesSplit\n",
    "from sklearn.metrics import mean_absolute_error\n",
    "import datetime\n",
    "\n",
    "from statsmodels.tsa.vector_ar.var_model import VAR\n",
    "import mlflow\n",
    "from mlflow.entities import ViewType\n",
    "import airflow\n",
    "import os \n",
    "import gcsfs\n",
    "\n",
    "os.environ[\"GCLOUD_PROJECT\"] = \"formation-mle-dev\"\n",
    "#defining the gcp path\n",
    "gcs = gcsfs.GCSFileSystem(project='formation-mle-dev')\n",
    "artefacts_bucket = 'dataset-projet-mle-var-forecasting'\n",
    "folder_data = 'gcs/data'\n",
    "folder_model = 'models'\n",
    "gs_path = 'gs://'\n",
    "bucket_name = artefacts_bucket\n",
    "nom_df = \"historic_demand_2009_2023_noNaN.csv\"\n",
    "\n",
    "\n",
    "tracking_server_host = \"34.163.234.198\"\n",
    "mlflow.set_tracking_uri(f\"http://{tracking_server_host}:5000\")\n",
    "mlflow.set_registry_uri('gs://mlflow-storage-artifacts-var-project')\n",
    "mlflow.set_experiment(\"var_test_airflow\")\n",
    "experiment_name = \"var_test_airflow\"\n",
    "\n",
    "if mlflow.get_experiment_by_name(experiment_name) is None:\n",
    "    experiment_id=mlflow.create_experiment(experiment_name)\n",
    "else:\n",
    "    current_experiment=dict(mlflow.get_experiment_by_name(experiment_name))\n",
    "    experiment_id=current_experiment['experiment_id']\n",
    "\n",
    "run = mlflow.search_runs(\n",
    "    experiment_ids=experiment_id,\n",
    "    filter_string=\"\",\n",
    "    run_view_type=ViewType.ACTIVE_ONLY,\n",
    "    max_results=1,\n",
    "    order_by=[\"metrics.MAE DESC\"],\n",
    "    output_format = 'pandas',\n",
    ")\n",
    "print(run)"
   ]
  },
  {
   "cell_type": "code",
   "execution_count": 22,
   "metadata": {},
   "outputs": [
    {
     "name": "stdout",
     "output_type": "stream",
     "text": [
      "runs:/6a9247c5e1f6446ba2f8b8b1e5cdf3cf/model\n"
     ]
    }
   ],
   "source": [
    "logged_model = os.path.join('runs:', run['run_id'][0], 'model' ).replace(\"\\\\\",\"/\")\n",
    "print(logged_model)\n",
    "\n",
    "# Load model as a PyFuncModel.\n",
    "loaded_model = mlflow.statsmodels.load_model(logged_model)"
   ]
  },
  {
   "cell_type": "code",
   "execution_count": 23,
   "metadata": {},
   "outputs": [
    {
     "data": {
      "text/plain": [
       "<statsmodels.tsa.vector_ar.var_model.VARResultsWrapper at 0x2c20d91a7f0>"
      ]
     },
     "execution_count": 23,
     "metadata": {},
     "output_type": "execute_result"
    }
   ],
   "source": [
    "loaded_model"
   ]
  },
  {
   "cell_type": "code",
   "execution_count": 24,
   "metadata": {},
   "outputs": [
    {
     "data": {
      "text/plain": [
       "48"
      ]
     },
     "execution_count": 24,
     "metadata": {},
     "output_type": "execute_result"
    }
   ],
   "source": [
    "loaded_model.k_ar"
   ]
  },
  {
   "cell_type": "code",
   "execution_count": null,
   "metadata": {},
   "outputs": [],
   "source": []
  }
 ],
 "metadata": {
  "kernelspec": {
   "display_name": "Python 3",
   "language": "python",
   "name": "python3"
  },
  "language_info": {
   "codemirror_mode": {
    "name": "ipython",
    "version": 3
   },
   "file_extension": ".py",
   "mimetype": "text/x-python",
   "name": "python",
   "nbconvert_exporter": "python",
   "pygments_lexer": "ipython3",
   "version": "3.9.16"
  },
  "orig_nbformat": 4
 },
 "nbformat": 4,
 "nbformat_minor": 2
}
